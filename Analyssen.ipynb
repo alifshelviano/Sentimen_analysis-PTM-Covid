{
 "cells": [
  {
   "cell_type": "code",
   "execution_count": 1,
   "metadata": {
    "id": "1Le0DvvVh6EV"
   },
   "outputs": [],
   "source": [
    "import pandas as pd\n",
    "import re \n",
    "import numpy as np\n",
    "import joblib\n",
    "import pickle\n",
    "import seaborn as sns\n",
    "import matplotlib.pyplot as plt\n",
    "from sklearn import model_selection\n",
    "from sklearn.linear_model import LogisticRegression\n",
    "from sklearn.multiclass import OneVsRestClassifier\n",
    "from sklearn.naive_bayes import MultinomialNB\n",
    "from sklearn.metrics import classification_report\n",
    "from sklearn.model_selection import train_test_split\n",
    "from sklearn.feature_extraction.text import CountVectorizer\n",
    "from sklearn.feature_extraction.text import TfidfTransformer\n",
    "from sklearn.pipeline import Pipeline   \n",
    "from sklearn.metrics import accuracy_score\n",
    "import collections"
   ]
  },
  {
   "cell_type": "code",
   "execution_count": 2,
   "metadata": {
    "id": "L4Cd0epCh6EY",
    "outputId": "c4dd9fa8-e07b-44b4-fc4c-8c817988d60a"
   },
   "outputs": [
    {
     "data": {
      "text/plain": [
       "<bound method DataFrame.info of      Unnamed: 0                                   Comments_youtube    Label  \\\n",
       "0             0  semoga aja gajadi sekolah awal tahun karna wak...  negatif   \n",
       "1             1  tatap muka moga2 tdk terlalu ribet dgn terlalu...  positif   \n",
       "2             2  sistem buka tutup sekolah akan tiba covid naik...  negatif   \n",
       "3             3  padahal indonesia tembus 500 000 covid astagfi...  negatif   \n",
       "4             4  semuanya tergantung orang tua saya kalau misal...  negatif   \n",
       "..          ...                                                ...      ...   \n",
       "499         552                                      alhamdulillah  positif   \n",
       "500         553  mending daring aja pak kalo offline masih berk...  negatif   \n",
       "501         554  enak online aja lah tinggal ngerjain tugas pst...  negatif   \n",
       "502         555  biarkan saja anak anak sekolah on line sampai ...  negatif   \n",
       "503         556                          jujur pak saya betah pjj   negatif   \n",
       "\n",
       "                                      COMMENTS_YOUTUBE  \\\n",
       "0    semoga aja gajadi sekolah awal tahun karna wak...   \n",
       "1    tatap muka moga2 tdk terlalu ribet dgn terlalu...   \n",
       "2    sistem buka tutup sekolah akan tiba covid naik...   \n",
       "3    padahal indonesia tembus 500 000 covid astagfi...   \n",
       "4    semuanya tergantung orang tua saya kalau misal...   \n",
       "..                                                 ...   \n",
       "499                                      alhamdulillah   \n",
       "500  mending daring aja pak kalo offline masih berk...   \n",
       "501  enak online aja lah tinggal ngerjain tugas pst...   \n",
       "502  biarkan saja anak anak sekolah on line sampai ...   \n",
       "503                          jujur pak saya betah pjj    \n",
       "\n",
       "                                          TOKENIZATION  \\\n",
       "0    ['semoga', 'aja', 'gajadi', 'sekolah', 'awal',...   \n",
       "1    ['tatap', 'muka', 'moga2', 'tdk', 'terlalu', '...   \n",
       "2    ['sistem', 'buka', 'tutup', 'sekolah', 'akan',...   \n",
       "3    ['padahal', 'indonesia', 'tembus', '500', '000...   \n",
       "4    ['semuanya', 'tergantung', 'orang', 'tua', 'sa...   \n",
       "..                                                 ...   \n",
       "499                                  ['alhamdulillah']   \n",
       "500  ['mending', 'daring', 'aja', 'pak', 'kalo', 'o...   \n",
       "501  ['enak', 'online', 'aja', 'lah', 'tinggal', 'n...   \n",
       "502  ['biarkan', 'saja', 'anak', 'anak', 'sekolah',...   \n",
       "503       ['jujur', 'pak', 'saya', 'betah', 'pjj', '']   \n",
       "\n",
       "                                          STOP_REMOVAL  \\\n",
       "0    semoga aja gajadi sekolah karna kemarin simula...   \n",
       "1    tatap muka moga2 tdk ribet dgn bnyk aturan onl...   \n",
       "2    sistem buka tutup sekolah covid sekolah tutup ...   \n",
       "3         indonesia tembus 500 000 covid astagfirullah   \n",
       "4    tergantung orang tua terkena covid tanggal mat...   \n",
       "..                                                 ...   \n",
       "499                                      alhamdulillah   \n",
       "500         mending daring aja kalo offline berkerumun   \n",
       "501    enak online aja tinggal ngerjain tugas psti kls   \n",
       "502  biarkan anak anak sekolah on line setahun mall...   \n",
       "503                                   jujur betah pjj    \n",
       "\n",
       "                                              STEMMING  \n",
       "0    moga aja gajadi sekolah karna kemarin simulasi...  \n",
       "1    tatap muka moga2 tdk ribet dgn bnyk atur onlin...  \n",
       "2    sistem buka tutup sekolah covid sekolah tutup ...  \n",
       "3         indonesia tembus 500 000 covid astagfirullah  \n",
       "4       gantung orang tua kena covid tanggal mati adek  \n",
       "..                                                 ...  \n",
       "499                                      alhamdulillah  \n",
       "500            mending daring aja kalo offline kerumun  \n",
       "501    enak online aja tinggal ngerjain tugas psti kls  \n",
       "502  biar anak anak sekolah on line tahun mall buka...  \n",
       "503                                    jujur betah pjj  \n",
       "\n",
       "[504 rows x 7 columns]>"
      ]
     },
     "execution_count": 2,
     "metadata": {},
     "output_type": "execute_result"
    }
   ],
   "source": [
    "df = pd.read_csv(r'C:\\Users\\alifs\\Documents\\hasil_preprocessing_MIX1.csv')\n",
    "#df = pd.read_csv(r'C:\\Users\\alifs\\Desktop\\hasil_preprocessing_MIX198.csv')\n",
    "#df = pd.read_csv(r'C:\\Users\\alifs\\Documents\\hasil_preprocessing_MIX1.8.csv')\n",
    "df.info"
   ]
  },
  {
   "cell_type": "code",
   "execution_count": 7,
   "metadata": {
    "id": "oDejYWJ1h6EZ",
    "outputId": "a0b25b02-a21a-4d33-c083-650165761596"
   },
   "outputs": [
    {
     "data": {
      "text/html": [
       "<div>\n",
       "<style scoped>\n",
       "    .dataframe tbody tr th:only-of-type {\n",
       "        vertical-align: middle;\n",
       "    }\n",
       "\n",
       "    .dataframe tbody tr th {\n",
       "        vertical-align: top;\n",
       "    }\n",
       "\n",
       "    .dataframe thead th {\n",
       "        text-align: right;\n",
       "    }\n",
       "</style>\n",
       "<table border=\"1\" class=\"dataframe\">\n",
       "  <thead>\n",
       "    <tr style=\"text-align: right;\">\n",
       "      <th></th>\n",
       "      <th>Comments_youtube</th>\n",
       "      <th>Label</th>\n",
       "      <th>COMMENTS_YOUTUBE</th>\n",
       "      <th>TOKENIZATION</th>\n",
       "      <th>STOP_REMOVAL</th>\n",
       "      <th>STEMMING</th>\n",
       "      <th>Polarity</th>\n",
       "    </tr>\n",
       "  </thead>\n",
       "  <tbody>\n",
       "    <tr>\n",
       "      <th>0</th>\n",
       "      <td>semoga aja gajadi sekolah awal tahun karna wak...</td>\n",
       "      <td>negatif</td>\n",
       "      <td>semoga aja gajadi sekolah awal tahun karna wak...</td>\n",
       "      <td>['semoga', 'aja', 'gajadi', 'sekolah', 'awal',...</td>\n",
       "      <td>semoga aja gajadi sekolah karna kemarin simula...</td>\n",
       "      <td>moga aja gajadi sekolah karna kemarin simulasi...</td>\n",
       "      <td>0</td>\n",
       "    </tr>\n",
       "    <tr>\n",
       "      <th>1</th>\n",
       "      <td>tatap muka moga2 tdk terlalu ribet dgn terlalu...</td>\n",
       "      <td>positif</td>\n",
       "      <td>tatap muka moga2 tdk terlalu ribet dgn terlalu...</td>\n",
       "      <td>['tatap', 'muka', 'moga2', 'tdk', 'terlalu', '...</td>\n",
       "      <td>tatap muka moga2 tdk ribet dgn bnyk aturan onl...</td>\n",
       "      <td>tatap muka moga2 tdk ribet dgn bnyk atur onlin...</td>\n",
       "      <td>1</td>\n",
       "    </tr>\n",
       "    <tr>\n",
       "      <th>2</th>\n",
       "      <td>sistem buka tutup sekolah akan tiba covid naik...</td>\n",
       "      <td>negatif</td>\n",
       "      <td>sistem buka tutup sekolah akan tiba covid naik...</td>\n",
       "      <td>['sistem', 'buka', 'tutup', 'sekolah', 'akan',...</td>\n",
       "      <td>sistem buka tutup sekolah covid sekolah tutup ...</td>\n",
       "      <td>sistem buka tutup sekolah covid sekolah tutup ...</td>\n",
       "      <td>0</td>\n",
       "    </tr>\n",
       "    <tr>\n",
       "      <th>3</th>\n",
       "      <td>padahal indonesia tembus 500 000 covid astagfi...</td>\n",
       "      <td>negatif</td>\n",
       "      <td>padahal indonesia tembus 500 000 covid astagfi...</td>\n",
       "      <td>['padahal', 'indonesia', 'tembus', '500', '000...</td>\n",
       "      <td>indonesia tembus 500 000 covid astagfirullah</td>\n",
       "      <td>indonesia tembus 500 000 covid astagfirullah</td>\n",
       "      <td>0</td>\n",
       "    </tr>\n",
       "    <tr>\n",
       "      <th>4</th>\n",
       "      <td>semuanya tergantung orang tua saya kalau misal...</td>\n",
       "      <td>negatif</td>\n",
       "      <td>semuanya tergantung orang tua saya kalau misal...</td>\n",
       "      <td>['semuanya', 'tergantung', 'orang', 'tua', 'sa...</td>\n",
       "      <td>tergantung orang tua terkena covid tanggal mat...</td>\n",
       "      <td>gantung orang tua kena covid tanggal mati adek</td>\n",
       "      <td>0</td>\n",
       "    </tr>\n",
       "    <tr>\n",
       "      <th>...</th>\n",
       "      <td>...</td>\n",
       "      <td>...</td>\n",
       "      <td>...</td>\n",
       "      <td>...</td>\n",
       "      <td>...</td>\n",
       "      <td>...</td>\n",
       "      <td>...</td>\n",
       "    </tr>\n",
       "    <tr>\n",
       "      <th>499</th>\n",
       "      <td>alhamdulillah</td>\n",
       "      <td>positif</td>\n",
       "      <td>alhamdulillah</td>\n",
       "      <td>['alhamdulillah']</td>\n",
       "      <td>alhamdulillah</td>\n",
       "      <td>alhamdulillah</td>\n",
       "      <td>1</td>\n",
       "    </tr>\n",
       "    <tr>\n",
       "      <th>500</th>\n",
       "      <td>mending daring aja pak kalo offline masih berk...</td>\n",
       "      <td>negatif</td>\n",
       "      <td>mending daring aja pak kalo offline masih berk...</td>\n",
       "      <td>['mending', 'daring', 'aja', 'pak', 'kalo', 'o...</td>\n",
       "      <td>mending daring aja kalo offline berkerumun</td>\n",
       "      <td>mending daring aja kalo offline kerumun</td>\n",
       "      <td>0</td>\n",
       "    </tr>\n",
       "    <tr>\n",
       "      <th>501</th>\n",
       "      <td>enak online aja lah tinggal ngerjain tugas pst...</td>\n",
       "      <td>negatif</td>\n",
       "      <td>enak online aja lah tinggal ngerjain tugas pst...</td>\n",
       "      <td>['enak', 'online', 'aja', 'lah', 'tinggal', 'n...</td>\n",
       "      <td>enak online aja tinggal ngerjain tugas psti kls</td>\n",
       "      <td>enak online aja tinggal ngerjain tugas psti kls</td>\n",
       "      <td>0</td>\n",
       "    </tr>\n",
       "    <tr>\n",
       "      <th>502</th>\n",
       "      <td>biarkan saja anak anak sekolah on line sampai ...</td>\n",
       "      <td>negatif</td>\n",
       "      <td>biarkan saja anak anak sekolah on line sampai ...</td>\n",
       "      <td>['biarkan', 'saja', 'anak', 'anak', 'sekolah',...</td>\n",
       "      <td>biarkan anak anak sekolah on line setahun mall...</td>\n",
       "      <td>biar anak anak sekolah on line tahun mall buka...</td>\n",
       "      <td>0</td>\n",
       "    </tr>\n",
       "    <tr>\n",
       "      <th>503</th>\n",
       "      <td>jujur pak saya betah pjj</td>\n",
       "      <td>negatif</td>\n",
       "      <td>jujur pak saya betah pjj</td>\n",
       "      <td>['jujur', 'pak', 'saya', 'betah', 'pjj', '']</td>\n",
       "      <td>jujur betah pjj</td>\n",
       "      <td>jujur betah pjj</td>\n",
       "      <td>0</td>\n",
       "    </tr>\n",
       "  </tbody>\n",
       "</table>\n",
       "<p>504 rows × 7 columns</p>\n",
       "</div>"
      ],
      "text/plain": [
       "                                      Comments_youtube    Label  \\\n",
       "0    semoga aja gajadi sekolah awal tahun karna wak...  negatif   \n",
       "1    tatap muka moga2 tdk terlalu ribet dgn terlalu...  positif   \n",
       "2    sistem buka tutup sekolah akan tiba covid naik...  negatif   \n",
       "3    padahal indonesia tembus 500 000 covid astagfi...  negatif   \n",
       "4    semuanya tergantung orang tua saya kalau misal...  negatif   \n",
       "..                                                 ...      ...   \n",
       "499                                      alhamdulillah  positif   \n",
       "500  mending daring aja pak kalo offline masih berk...  negatif   \n",
       "501  enak online aja lah tinggal ngerjain tugas pst...  negatif   \n",
       "502  biarkan saja anak anak sekolah on line sampai ...  negatif   \n",
       "503                          jujur pak saya betah pjj   negatif   \n",
       "\n",
       "                                      COMMENTS_YOUTUBE  \\\n",
       "0    semoga aja gajadi sekolah awal tahun karna wak...   \n",
       "1    tatap muka moga2 tdk terlalu ribet dgn terlalu...   \n",
       "2    sistem buka tutup sekolah akan tiba covid naik...   \n",
       "3    padahal indonesia tembus 500 000 covid astagfi...   \n",
       "4    semuanya tergantung orang tua saya kalau misal...   \n",
       "..                                                 ...   \n",
       "499                                      alhamdulillah   \n",
       "500  mending daring aja pak kalo offline masih berk...   \n",
       "501  enak online aja lah tinggal ngerjain tugas pst...   \n",
       "502  biarkan saja anak anak sekolah on line sampai ...   \n",
       "503                          jujur pak saya betah pjj    \n",
       "\n",
       "                                          TOKENIZATION  \\\n",
       "0    ['semoga', 'aja', 'gajadi', 'sekolah', 'awal',...   \n",
       "1    ['tatap', 'muka', 'moga2', 'tdk', 'terlalu', '...   \n",
       "2    ['sistem', 'buka', 'tutup', 'sekolah', 'akan',...   \n",
       "3    ['padahal', 'indonesia', 'tembus', '500', '000...   \n",
       "4    ['semuanya', 'tergantung', 'orang', 'tua', 'sa...   \n",
       "..                                                 ...   \n",
       "499                                  ['alhamdulillah']   \n",
       "500  ['mending', 'daring', 'aja', 'pak', 'kalo', 'o...   \n",
       "501  ['enak', 'online', 'aja', 'lah', 'tinggal', 'n...   \n",
       "502  ['biarkan', 'saja', 'anak', 'anak', 'sekolah',...   \n",
       "503       ['jujur', 'pak', 'saya', 'betah', 'pjj', '']   \n",
       "\n",
       "                                          STOP_REMOVAL  \\\n",
       "0    semoga aja gajadi sekolah karna kemarin simula...   \n",
       "1    tatap muka moga2 tdk ribet dgn bnyk aturan onl...   \n",
       "2    sistem buka tutup sekolah covid sekolah tutup ...   \n",
       "3         indonesia tembus 500 000 covid astagfirullah   \n",
       "4    tergantung orang tua terkena covid tanggal mat...   \n",
       "..                                                 ...   \n",
       "499                                      alhamdulillah   \n",
       "500         mending daring aja kalo offline berkerumun   \n",
       "501    enak online aja tinggal ngerjain tugas psti kls   \n",
       "502  biarkan anak anak sekolah on line setahun mall...   \n",
       "503                                   jujur betah pjj    \n",
       "\n",
       "                                              STEMMING  Polarity  \n",
       "0    moga aja gajadi sekolah karna kemarin simulasi...         0  \n",
       "1    tatap muka moga2 tdk ribet dgn bnyk atur onlin...         1  \n",
       "2    sistem buka tutup sekolah covid sekolah tutup ...         0  \n",
       "3         indonesia tembus 500 000 covid astagfirullah         0  \n",
       "4       gantung orang tua kena covid tanggal mati adek         0  \n",
       "..                                                 ...       ...  \n",
       "499                                      alhamdulillah         1  \n",
       "500            mending daring aja kalo offline kerumun         0  \n",
       "501    enak online aja tinggal ngerjain tugas psti kls         0  \n",
       "502  biar anak anak sekolah on line tahun mall buka...         0  \n",
       "503                                    jujur betah pjj         0  \n",
       "\n",
       "[504 rows x 7 columns]"
      ]
     },
     "execution_count": 7,
     "metadata": {},
     "output_type": "execute_result"
    }
   ],
   "source": [
    "df = df.loc[:, ~df.columns.str.contains('^Unnamed')]\n",
    "df"
   ]
  },
  {
   "cell_type": "code",
   "execution_count": 8,
   "metadata": {
    "id": "A2qKmI6xh6EZ"
   },
   "outputs": [],
   "source": [
    "def convert(Polarity):\n",
    "    if Polarity == 'positif':\n",
    "        return 1\n",
    "    else:\n",
    "        return 0\n",
    "    "
   ]
  },
  {
   "cell_type": "code",
   "execution_count": 9,
   "metadata": {
    "id": "Ubkg3R-ih6Ea"
   },
   "outputs": [
    {
     "name": "stderr",
     "output_type": "stream",
     "text": [
      "C:\\Users\\alifs\\AppData\\Local\\Temp/ipykernel_7240/3917345290.py:1: SettingWithCopyWarning: \n",
      "A value is trying to be set on a copy of a slice from a DataFrame.\n",
      "Try using .loc[row_indexer,col_indexer] = value instead\n",
      "\n",
      "See the caveats in the documentation: https://pandas.pydata.org/pandas-docs/stable/user_guide/indexing.html#returning-a-view-versus-a-copy\n",
      "  df['Polarity'] = df['Label'].apply(convert)\n"
     ]
    }
   ],
   "source": [
    "df['Polarity'] = df['Label'].apply(convert)"
   ]
  },
  {
   "cell_type": "code",
   "execution_count": 10,
   "metadata": {
    "id": "GnG4hUtIh6Ea",
    "outputId": "56751e58-be45-4d61-90eb-2db272aa4401"
   },
   "outputs": [
    {
     "data": {
      "text/html": [
       "<div>\n",
       "<style scoped>\n",
       "    .dataframe tbody tr th:only-of-type {\n",
       "        vertical-align: middle;\n",
       "    }\n",
       "\n",
       "    .dataframe tbody tr th {\n",
       "        vertical-align: top;\n",
       "    }\n",
       "\n",
       "    .dataframe thead th {\n",
       "        text-align: right;\n",
       "    }\n",
       "</style>\n",
       "<table border=\"1\" class=\"dataframe\">\n",
       "  <thead>\n",
       "    <tr style=\"text-align: right;\">\n",
       "      <th></th>\n",
       "      <th>Comments_youtube</th>\n",
       "      <th>Label</th>\n",
       "      <th>COMMENTS_YOUTUBE</th>\n",
       "      <th>TOKENIZATION</th>\n",
       "      <th>STOP_REMOVAL</th>\n",
       "      <th>STEMMING</th>\n",
       "      <th>Polarity</th>\n",
       "    </tr>\n",
       "  </thead>\n",
       "  <tbody>\n",
       "    <tr>\n",
       "      <th>0</th>\n",
       "      <td>semoga aja gajadi sekolah awal tahun karna wak...</td>\n",
       "      <td>negatif</td>\n",
       "      <td>semoga aja gajadi sekolah awal tahun karna wak...</td>\n",
       "      <td>['semoga', 'aja', 'gajadi', 'sekolah', 'awal',...</td>\n",
       "      <td>semoga aja gajadi sekolah karna kemarin simula...</td>\n",
       "      <td>moga aja gajadi sekolah karna kemarin simulasi...</td>\n",
       "      <td>0</td>\n",
       "    </tr>\n",
       "    <tr>\n",
       "      <th>1</th>\n",
       "      <td>tatap muka moga2 tdk terlalu ribet dgn terlalu...</td>\n",
       "      <td>positif</td>\n",
       "      <td>tatap muka moga2 tdk terlalu ribet dgn terlalu...</td>\n",
       "      <td>['tatap', 'muka', 'moga2', 'tdk', 'terlalu', '...</td>\n",
       "      <td>tatap muka moga2 tdk ribet dgn bnyk aturan onl...</td>\n",
       "      <td>tatap muka moga2 tdk ribet dgn bnyk atur onlin...</td>\n",
       "      <td>1</td>\n",
       "    </tr>\n",
       "    <tr>\n",
       "      <th>2</th>\n",
       "      <td>sistem buka tutup sekolah akan tiba covid naik...</td>\n",
       "      <td>negatif</td>\n",
       "      <td>sistem buka tutup sekolah akan tiba covid naik...</td>\n",
       "      <td>['sistem', 'buka', 'tutup', 'sekolah', 'akan',...</td>\n",
       "      <td>sistem buka tutup sekolah covid sekolah tutup ...</td>\n",
       "      <td>sistem buka tutup sekolah covid sekolah tutup ...</td>\n",
       "      <td>0</td>\n",
       "    </tr>\n",
       "    <tr>\n",
       "      <th>3</th>\n",
       "      <td>padahal indonesia tembus 500 000 covid astagfi...</td>\n",
       "      <td>negatif</td>\n",
       "      <td>padahal indonesia tembus 500 000 covid astagfi...</td>\n",
       "      <td>['padahal', 'indonesia', 'tembus', '500', '000...</td>\n",
       "      <td>indonesia tembus 500 000 covid astagfirullah</td>\n",
       "      <td>indonesia tembus 500 000 covid astagfirullah</td>\n",
       "      <td>0</td>\n",
       "    </tr>\n",
       "    <tr>\n",
       "      <th>4</th>\n",
       "      <td>semuanya tergantung orang tua saya kalau misal...</td>\n",
       "      <td>negatif</td>\n",
       "      <td>semuanya tergantung orang tua saya kalau misal...</td>\n",
       "      <td>['semuanya', 'tergantung', 'orang', 'tua', 'sa...</td>\n",
       "      <td>tergantung orang tua terkena covid tanggal mat...</td>\n",
       "      <td>gantung orang tua kena covid tanggal mati adek</td>\n",
       "      <td>0</td>\n",
       "    </tr>\n",
       "    <tr>\n",
       "      <th>...</th>\n",
       "      <td>...</td>\n",
       "      <td>...</td>\n",
       "      <td>...</td>\n",
       "      <td>...</td>\n",
       "      <td>...</td>\n",
       "      <td>...</td>\n",
       "      <td>...</td>\n",
       "    </tr>\n",
       "    <tr>\n",
       "      <th>499</th>\n",
       "      <td>alhamdulillah</td>\n",
       "      <td>positif</td>\n",
       "      <td>alhamdulillah</td>\n",
       "      <td>['alhamdulillah']</td>\n",
       "      <td>alhamdulillah</td>\n",
       "      <td>alhamdulillah</td>\n",
       "      <td>1</td>\n",
       "    </tr>\n",
       "    <tr>\n",
       "      <th>500</th>\n",
       "      <td>mending daring aja pak kalo offline masih berk...</td>\n",
       "      <td>negatif</td>\n",
       "      <td>mending daring aja pak kalo offline masih berk...</td>\n",
       "      <td>['mending', 'daring', 'aja', 'pak', 'kalo', 'o...</td>\n",
       "      <td>mending daring aja kalo offline berkerumun</td>\n",
       "      <td>mending daring aja kalo offline kerumun</td>\n",
       "      <td>0</td>\n",
       "    </tr>\n",
       "    <tr>\n",
       "      <th>501</th>\n",
       "      <td>enak online aja lah tinggal ngerjain tugas pst...</td>\n",
       "      <td>negatif</td>\n",
       "      <td>enak online aja lah tinggal ngerjain tugas pst...</td>\n",
       "      <td>['enak', 'online', 'aja', 'lah', 'tinggal', 'n...</td>\n",
       "      <td>enak online aja tinggal ngerjain tugas psti kls</td>\n",
       "      <td>enak online aja tinggal ngerjain tugas psti kls</td>\n",
       "      <td>0</td>\n",
       "    </tr>\n",
       "    <tr>\n",
       "      <th>502</th>\n",
       "      <td>biarkan saja anak anak sekolah on line sampai ...</td>\n",
       "      <td>negatif</td>\n",
       "      <td>biarkan saja anak anak sekolah on line sampai ...</td>\n",
       "      <td>['biarkan', 'saja', 'anak', 'anak', 'sekolah',...</td>\n",
       "      <td>biarkan anak anak sekolah on line setahun mall...</td>\n",
       "      <td>biar anak anak sekolah on line tahun mall buka...</td>\n",
       "      <td>0</td>\n",
       "    </tr>\n",
       "    <tr>\n",
       "      <th>503</th>\n",
       "      <td>jujur pak saya betah pjj</td>\n",
       "      <td>negatif</td>\n",
       "      <td>jujur pak saya betah pjj</td>\n",
       "      <td>['jujur', 'pak', 'saya', 'betah', 'pjj', '']</td>\n",
       "      <td>jujur betah pjj</td>\n",
       "      <td>jujur betah pjj</td>\n",
       "      <td>0</td>\n",
       "    </tr>\n",
       "  </tbody>\n",
       "</table>\n",
       "<p>504 rows × 7 columns</p>\n",
       "</div>"
      ],
      "text/plain": [
       "                                      Comments_youtube    Label  \\\n",
       "0    semoga aja gajadi sekolah awal tahun karna wak...  negatif   \n",
       "1    tatap muka moga2 tdk terlalu ribet dgn terlalu...  positif   \n",
       "2    sistem buka tutup sekolah akan tiba covid naik...  negatif   \n",
       "3    padahal indonesia tembus 500 000 covid astagfi...  negatif   \n",
       "4    semuanya tergantung orang tua saya kalau misal...  negatif   \n",
       "..                                                 ...      ...   \n",
       "499                                      alhamdulillah  positif   \n",
       "500  mending daring aja pak kalo offline masih berk...  negatif   \n",
       "501  enak online aja lah tinggal ngerjain tugas pst...  negatif   \n",
       "502  biarkan saja anak anak sekolah on line sampai ...  negatif   \n",
       "503                          jujur pak saya betah pjj   negatif   \n",
       "\n",
       "                                      COMMENTS_YOUTUBE  \\\n",
       "0    semoga aja gajadi sekolah awal tahun karna wak...   \n",
       "1    tatap muka moga2 tdk terlalu ribet dgn terlalu...   \n",
       "2    sistem buka tutup sekolah akan tiba covid naik...   \n",
       "3    padahal indonesia tembus 500 000 covid astagfi...   \n",
       "4    semuanya tergantung orang tua saya kalau misal...   \n",
       "..                                                 ...   \n",
       "499                                      alhamdulillah   \n",
       "500  mending daring aja pak kalo offline masih berk...   \n",
       "501  enak online aja lah tinggal ngerjain tugas pst...   \n",
       "502  biarkan saja anak anak sekolah on line sampai ...   \n",
       "503                          jujur pak saya betah pjj    \n",
       "\n",
       "                                          TOKENIZATION  \\\n",
       "0    ['semoga', 'aja', 'gajadi', 'sekolah', 'awal',...   \n",
       "1    ['tatap', 'muka', 'moga2', 'tdk', 'terlalu', '...   \n",
       "2    ['sistem', 'buka', 'tutup', 'sekolah', 'akan',...   \n",
       "3    ['padahal', 'indonesia', 'tembus', '500', '000...   \n",
       "4    ['semuanya', 'tergantung', 'orang', 'tua', 'sa...   \n",
       "..                                                 ...   \n",
       "499                                  ['alhamdulillah']   \n",
       "500  ['mending', 'daring', 'aja', 'pak', 'kalo', 'o...   \n",
       "501  ['enak', 'online', 'aja', 'lah', 'tinggal', 'n...   \n",
       "502  ['biarkan', 'saja', 'anak', 'anak', 'sekolah',...   \n",
       "503       ['jujur', 'pak', 'saya', 'betah', 'pjj', '']   \n",
       "\n",
       "                                          STOP_REMOVAL  \\\n",
       "0    semoga aja gajadi sekolah karna kemarin simula...   \n",
       "1    tatap muka moga2 tdk ribet dgn bnyk aturan onl...   \n",
       "2    sistem buka tutup sekolah covid sekolah tutup ...   \n",
       "3         indonesia tembus 500 000 covid astagfirullah   \n",
       "4    tergantung orang tua terkena covid tanggal mat...   \n",
       "..                                                 ...   \n",
       "499                                      alhamdulillah   \n",
       "500         mending daring aja kalo offline berkerumun   \n",
       "501    enak online aja tinggal ngerjain tugas psti kls   \n",
       "502  biarkan anak anak sekolah on line setahun mall...   \n",
       "503                                   jujur betah pjj    \n",
       "\n",
       "                                              STEMMING  Polarity  \n",
       "0    moga aja gajadi sekolah karna kemarin simulasi...         0  \n",
       "1    tatap muka moga2 tdk ribet dgn bnyk atur onlin...         1  \n",
       "2    sistem buka tutup sekolah covid sekolah tutup ...         0  \n",
       "3         indonesia tembus 500 000 covid astagfirullah         0  \n",
       "4       gantung orang tua kena covid tanggal mati adek         0  \n",
       "..                                                 ...       ...  \n",
       "499                                      alhamdulillah         1  \n",
       "500            mending daring aja kalo offline kerumun         0  \n",
       "501    enak online aja tinggal ngerjain tugas psti kls         0  \n",
       "502  biar anak anak sekolah on line tahun mall buka...         0  \n",
       "503                                    jujur betah pjj         0  \n",
       "\n",
       "[504 rows x 7 columns]"
      ]
     },
     "execution_count": 10,
     "metadata": {},
     "output_type": "execute_result"
    }
   ],
   "source": [
    "df"
   ]
  },
  {
   "cell_type": "code",
   "execution_count": 53,
   "metadata": {
    "id": "SoH8wYwXh6Eb",
    "outputId": "de56e8b8-48fc-4748-ea07-fb7db8913377"
   },
   "outputs": [
    {
     "data": {
      "image/png": "[encoded data removed]",
      "text/plain": [
       "<Figure size 432x288 with 1 Axes>"
      ]
     },
     "metadata": {},
     "output_type": "display_data"
    }
   ],
   "source": [
    "sentiments = ['Positive Sentiment', 'Negative Sentiment'] \n",
    "slices = [(df['Polarity'] ==1 ).sum(), (df['Polarity'] !=1).sum()] \n",
    "colors = ['g', 'y'] \n",
    "plt.pie(slices, labels = sentiments, colors=colors, startangle=90, shadow = True,\n",
    "        explode = (0, 0.1), radius = 1.5, autopct = '%1.2f%%') \n",
    "plt.legend()\n",
    "plt.show()"
   ]
  },
  {
   "cell_type": "markdown",
   "metadata": {},
   "source": [
    "Ekstraksi fitur countvectorizer dan tfidf"
   ]
  },
  {
   "cell_type": "code",
   "execution_count": 12,
   "metadata": {
    "id": "-tO_Bh6th6Eb",
    "outputId": "345ba01a-c69b-4a84-f5b5-b76610479782"
   },
   "outputs": [
    {
     "name": "stdout",
     "output_type": "stream",
     "text": [
      "(504,)\n",
      "[[0 0 0 ... 0 0 0]\n",
      " [0 0 0 ... 0 0 0]\n",
      " [0 0 0 ... 0 0 0]\n",
      " ...\n",
      " [0 0 0 ... 0 0 0]\n",
      " [0 0 0 ... 0 0 0]\n",
      " [0 0 0 ... 0 0 0]]\n",
      "Shape of Sparse Matrix:  (504, 1615)\n",
      "Amount of Non-zero occurrences:  5050\n",
      "(504, 1615)\n"
     ]
    }
   ],
   "source": [
    "y = df['Polarity']\n",
    "vectorizer = CountVectorizer()\n",
    "print(df['STEMMING'].shape)\n",
    "x =vectorizer.fit_transform(df['STEMMING'])\n",
    "\n",
    "print(x.toarray())\n",
    "print('Shape of Sparse Matrix: ',x.shape)\n",
    "print('Amount of Non-zero occurrences: ', x.nnz )\n",
    "\n",
    "filename1 = 'count_vectorized1.pkl'\n",
    "pickle.dump(vectorizer, open(filename1,'wb'))\n",
    "\n",
    "tf_transform = TfidfTransformer(use_idf=False).fit(x)\n",
    "x = tf_transform.transform(x)\n",
    "print(x.shape)\n",
    "\n",
    "filename1 = 'tfid_transform1.pkl'\n",
    "pickle.dump(tf_transform, open(filename1,'wb'))\n"
   ]
  },
  {
   "cell_type": "code",
   "execution_count": 13,
   "metadata": {
    "id": "LP9G9Zl_h6Ec",
    "outputId": "c8825296-773d-4ac3-aa05-aeea39b11a14"
   },
   "outputs": [
    {
     "name": "stdout",
     "output_type": "stream",
     "text": [
      "Density: 0.6204236080397071\n"
     ]
    }
   ],
   "source": [
    "density = (100.0 * x.nnz / (x.shape[0] * x.shape[1]))\n",
    "print('Density: {}'.format((density)))\n"
   ]
  },
  {
   "cell_type": "markdown",
   "metadata": {},
   "source": [
    "Membagi Data menjadi 2 banding 8"
   ]
  },
  {
   "cell_type": "code",
   "execution_count": 14,
   "metadata": {
    "id": "Qzhyc9R-h6Ed"
   },
   "outputs": [],
   "source": [
    "#spilt\n",
    "X_train,X_test,y_train,y_test= train_test_split(\n",
    "x,y,test_size=0.2,random_state=20)\n",
    "\n"
   ]
  },
  {
   "cell_type": "code",
   "execution_count": 16,
   "metadata": {
    "id": "hpeCOCSTh6Ed"
   },
   "outputs": [],
   "source": [
    "#classifier data\n",
    "nb =MultinomialNB()\n",
    "nb.fit(X_train,y_train)\n",
    "preds =nb.predict(X_test)"
   ]
  },
  {
   "cell_type": "code",
   "execution_count": 17,
   "metadata": {
    "id": "OD5gIbzyh6Ed",
    "outputId": "e6da254a-2d87-40a8-d2c7-04885e15f09d"
   },
   "outputs": [
    {
     "data": {
      "image/png": "[encoded data removed]",
      "text/plain": [
       "<Figure size 600x400 with 2 Axes>"
      ]
     },
     "metadata": {
      "needs_background": "light"
     },
     "output_type": "display_data"
    }
   ],
   "source": [
    "from sklearn.metrics import confusion_matrix\n",
    "\n",
    "plt.figure(dpi=100)\n",
    "cf = confusion_matrix(y_test, preds)\n",
    "labels = ['TN','FP','FN','TP']\n",
    "labels = np.asarray(labels).reshape(2,2)\n",
    "\n",
    "\n",
    "group_names = ['TN','FP','FN','TP']\n",
    "group_counts = [\"{0:0.0f}\".format(value) for value in\n",
    "                cf.flatten()]\n",
    "group_percentages = [\"{0:.2%}\".format(value) for value in\n",
    "                     cf.flatten()/np.sum(cf)]\n",
    "labels = [f\"{v1}\\n{v2}\\n{v3}\"for v1, v2, v3 in\n",
    "          zip(group_names,group_counts,group_percentages)]\n",
    "labels = np.asarray(labels).reshape(2,2)\n",
    "\n",
    "\n",
    "sns.heatmap(cf, annot=labels, fmt=\"\")\n",
    "plt.title('Confusion Matrix for Naive Bayes')\n",
    "plt.xlabel('True label')\n",
    "plt.ylabel('Predicted label')\n",
    "plt.show()"
   ]
  },
  {
   "cell_type": "code",
   "execution_count": 13,
   "metadata": {
    "id": "vtmsXu38h6Ed"
   },
   "outputs": [],
   "source": [
    "import sklearn.metrics as metrics"
   ]
  },
  {
   "cell_type": "markdown",
   "metadata": {
    "id": "RJtNpfdDh6Ee"
   },
   "source": [
    "# Confusion matrix\n",
    "[TN=12 FP=29\n",
    "FN=2 TP=61]"
   ]
  },
  {
   "cell_type": "code",
   "execution_count": 18,
   "metadata": {
    "id": "1HSYaLGzh6Ef",
    "outputId": "8f5c6cfe-9888-4c02-e50f-102ded74a6a9",
    "scrolled": true
   },
   "outputs": [
    {
     "name": "stdout",
     "output_type": "stream",
     "text": [
      "              precision    recall  f1-score   support\n",
      "\n",
      "           0       0.90      0.53      0.67        36\n",
      "           1       0.79      0.97      0.87        65\n",
      "\n",
      "    accuracy                           0.81       101\n",
      "   macro avg       0.85      0.75      0.77       101\n",
      "weighted avg       0.83      0.81      0.80       101\n",
      "\n",
      "81.19 %\n"
     ]
    }
   ],
   "source": [
    "print(classification_report(y_test,preds))\n",
    "acc = (accuracy_score(y_test,preds))*100\n",
    "print(round(acc,2),'%')"
   ]
  },
  {
   "cell_type": "code",
   "execution_count": 15,
   "metadata": {
    "id": "fKoaLoanh6Ef"
   },
   "outputs": [],
   "source": [
    "from io import StringIO\n",
    "classification = classification_report(y_test,preds)\n",
    "a = StringIO(classification)\n",
    "with open('classification.csv','w') as f:\n",
    "    for line in a:\n",
    "        f.write(line)"
   ]
  },
  {
   "cell_type": "code",
   "execution_count": 19,
   "metadata": {
    "id": "wpPKhuBsh6Ef"
   },
   "outputs": [],
   "source": [
    "accuracy = accuracy_score(y_test,preds)\n",
    "a = np.asarray([accuracy])\n",
    "np.savetxt(\"accuracy.csv\", a, delimiter=\",\",fmt='%s')"
   ]
  },
  {
   "cell_type": "code",
   "execution_count": 20,
   "metadata": {
    "id": "0r5bFGfZh6Eg",
    "outputId": "ab46af79-a376-4efd-b614-37a74345550b"
   },
   "outputs": [
    {
     "name": "stdout",
     "output_type": "stream",
     "text": [
      "Dataset size: (504, 7)\n",
      "Column are: Index(['Comments_youtube', 'Label', 'COMMENTS_YOUTUBE', 'TOKENIZATION',\n",
      "       'STOP_REMOVAL', 'STEMMING', 'Polarity'],\n",
      "      dtype='object')\n"
     ]
    }
   ],
   "source": [
    "print('Dataset size:',df.shape)\n",
    "print('Column are:',df.columns)"
   ]
  },
  {
   "cell_type": "code",
   "execution_count": 21,
   "metadata": {
    "id": "duY6gGXJh6Eg"
   },
   "outputs": [],
   "source": [
    "final = df[['COMMENTS_YOUTUBE','STEMMING','Label','Polarity']]\n"
   ]
  },
  {
   "cell_type": "code",
   "execution_count": 22,
   "metadata": {
    "id": "HRHWHA-ph6Eh",
    "outputId": "bf17ed00-45b6-4b97-8767-9b4a3f93c5cd"
   },
   "outputs": [
    {
     "data": {
      "text/html": [
       "<div>\n",
       "<style scoped>\n",
       "    .dataframe tbody tr th:only-of-type {\n",
       "        vertical-align: middle;\n",
       "    }\n",
       "\n",
       "    .dataframe tbody tr th {\n",
       "        vertical-align: top;\n",
       "    }\n",
       "\n",
       "    .dataframe thead th {\n",
       "        text-align: right;\n",
       "    }\n",
       "</style>\n",
       "<table border=\"1\" class=\"dataframe\">\n",
       "  <thead>\n",
       "    <tr style=\"text-align: right;\">\n",
       "      <th></th>\n",
       "      <th>COMMENTS_YOUTUBE</th>\n",
       "      <th>STEMMING</th>\n",
       "      <th>Label</th>\n",
       "      <th>Polarity</th>\n",
       "    </tr>\n",
       "  </thead>\n",
       "  <tbody>\n",
       "    <tr>\n",
       "      <th>0</th>\n",
       "      <td>semoga aja gajadi sekolah awal tahun karna wak...</td>\n",
       "      <td>moga aja gajadi sekolah karna kemarin simulasi...</td>\n",
       "      <td>negatif</td>\n",
       "      <td>0</td>\n",
       "    </tr>\n",
       "    <tr>\n",
       "      <th>1</th>\n",
       "      <td>tatap muka moga2 tdk terlalu ribet dgn terlalu...</td>\n",
       "      <td>tatap muka moga2 tdk ribet dgn bnyk atur onlin...</td>\n",
       "      <td>positif</td>\n",
       "      <td>1</td>\n",
       "    </tr>\n",
       "    <tr>\n",
       "      <th>2</th>\n",
       "      <td>sistem buka tutup sekolah akan tiba covid naik...</td>\n",
       "      <td>sistem buka tutup sekolah covid sekolah tutup ...</td>\n",
       "      <td>negatif</td>\n",
       "      <td>0</td>\n",
       "    </tr>\n",
       "    <tr>\n",
       "      <th>3</th>\n",
       "      <td>padahal indonesia tembus 500 000 covid astagfi...</td>\n",
       "      <td>indonesia tembus 500 000 covid astagfirullah</td>\n",
       "      <td>negatif</td>\n",
       "      <td>0</td>\n",
       "    </tr>\n",
       "    <tr>\n",
       "      <th>4</th>\n",
       "      <td>semuanya tergantung orang tua saya kalau misal...</td>\n",
       "      <td>gantung orang tua kena covid tanggal mati adek</td>\n",
       "      <td>negatif</td>\n",
       "      <td>0</td>\n",
       "    </tr>\n",
       "    <tr>\n",
       "      <th>...</th>\n",
       "      <td>...</td>\n",
       "      <td>...</td>\n",
       "      <td>...</td>\n",
       "      <td>...</td>\n",
       "    </tr>\n",
       "    <tr>\n",
       "      <th>499</th>\n",
       "      <td>alhamdulillah</td>\n",
       "      <td>alhamdulillah</td>\n",
       "      <td>positif</td>\n",
       "      <td>1</td>\n",
       "    </tr>\n",
       "    <tr>\n",
       "      <th>500</th>\n",
       "      <td>mending daring aja pak kalo offline masih berk...</td>\n",
       "      <td>mending daring aja kalo offline kerumun</td>\n",
       "      <td>negatif</td>\n",
       "      <td>0</td>\n",
       "    </tr>\n",
       "    <tr>\n",
       "      <th>501</th>\n",
       "      <td>enak online aja lah tinggal ngerjain tugas pst...</td>\n",
       "      <td>enak online aja tinggal ngerjain tugas psti kls</td>\n",
       "      <td>negatif</td>\n",
       "      <td>0</td>\n",
       "    </tr>\n",
       "    <tr>\n",
       "      <th>502</th>\n",
       "      <td>biarkan saja anak anak sekolah on line sampai ...</td>\n",
       "      <td>biar anak anak sekolah on line tahun mall buka...</td>\n",
       "      <td>negatif</td>\n",
       "      <td>0</td>\n",
       "    </tr>\n",
       "    <tr>\n",
       "      <th>503</th>\n",
       "      <td>jujur pak saya betah pjj</td>\n",
       "      <td>jujur betah pjj</td>\n",
       "      <td>negatif</td>\n",
       "      <td>0</td>\n",
       "    </tr>\n",
       "  </tbody>\n",
       "</table>\n",
       "<p>504 rows × 4 columns</p>\n",
       "</div>"
      ],
      "text/plain": [
       "                                      COMMENTS_YOUTUBE  \\\n",
       "0    semoga aja gajadi sekolah awal tahun karna wak...   \n",
       "1    tatap muka moga2 tdk terlalu ribet dgn terlalu...   \n",
       "2    sistem buka tutup sekolah akan tiba covid naik...   \n",
       "3    padahal indonesia tembus 500 000 covid astagfi...   \n",
       "4    semuanya tergantung orang tua saya kalau misal...   \n",
       "..                                                 ...   \n",
       "499                                      alhamdulillah   \n",
       "500  mending daring aja pak kalo offline masih berk...   \n",
       "501  enak online aja lah tinggal ngerjain tugas pst...   \n",
       "502  biarkan saja anak anak sekolah on line sampai ...   \n",
       "503                          jujur pak saya betah pjj    \n",
       "\n",
       "                                              STEMMING    Label  Polarity  \n",
       "0    moga aja gajadi sekolah karna kemarin simulasi...  negatif         0  \n",
       "1    tatap muka moga2 tdk ribet dgn bnyk atur onlin...  positif         1  \n",
       "2    sistem buka tutup sekolah covid sekolah tutup ...  negatif         0  \n",
       "3         indonesia tembus 500 000 covid astagfirullah  negatif         0  \n",
       "4       gantung orang tua kena covid tanggal mati adek  negatif         0  \n",
       "..                                                 ...      ...       ...  \n",
       "499                                      alhamdulillah  positif         1  \n",
       "500            mending daring aja kalo offline kerumun  negatif         0  \n",
       "501    enak online aja tinggal ngerjain tugas psti kls  negatif         0  \n",
       "502  biar anak anak sekolah on line tahun mall buka...  negatif         0  \n",
       "503                                    jujur betah pjj  negatif         0  \n",
       "\n",
       "[504 rows x 4 columns]"
      ]
     },
     "execution_count": 22,
     "metadata": {},
     "output_type": "execute_result"
    }
   ],
   "source": [
    "final"
   ]
  },
  {
   "cell_type": "code",
   "execution_count": null,
   "metadata": {
    "id": "0PXYmsixh6Eh"
   },
   "outputs": [],
   "source": [
    "Final = final.rename(columns={'COMMENTS_YOUTUBE':'Komentar_Youtube','STOP_REMOVAL':'Stop_Removal','Label':'Label','Polarity':'Polarity'})"
   ]
  },
  {
   "cell_type": "code",
   "execution_count": null,
   "metadata": {
    "id": "km4eh4QDh6Ei",
    "outputId": "6a8a0de6-72f1-4265-a165-0191d0464cc8"
   },
   "outputs": [
    {
     "data": {
      "text/html": [
       "<div>\n",
       "<style scoped>\n",
       "    .dataframe tbody tr th:only-of-type {\n",
       "        vertical-align: middle;\n",
       "    }\n",
       "\n",
       "    .dataframe tbody tr th {\n",
       "        vertical-align: top;\n",
       "    }\n",
       "\n",
       "    .dataframe thead th {\n",
       "        text-align: right;\n",
       "    }\n",
       "</style>\n",
       "<table border=\"1\" class=\"dataframe\">\n",
       "  <thead>\n",
       "    <tr style=\"text-align: right;\">\n",
       "      <th></th>\n",
       "      <th>Komentar_Youtube</th>\n",
       "      <th>STEMMING</th>\n",
       "      <th>Label</th>\n",
       "      <th>Polarity</th>\n",
       "    </tr>\n",
       "  </thead>\n",
       "  <tbody>\n",
       "    <tr>\n",
       "      <th>0</th>\n",
       "      <td>semoga aja gajadi sekolah awal tahun karna wak...</td>\n",
       "      <td>moga aja gajadi sekolah karna kemarin simulasi...</td>\n",
       "      <td>negatif</td>\n",
       "      <td>0</td>\n",
       "    </tr>\n",
       "    <tr>\n",
       "      <th>1</th>\n",
       "      <td>tatap muka moga2 tdk terlalu ribet dgn terlalu...</td>\n",
       "      <td>tatap muka moga2 tdk ribet dgn bnyk atur onlin...</td>\n",
       "      <td>positif</td>\n",
       "      <td>1</td>\n",
       "    </tr>\n",
       "    <tr>\n",
       "      <th>2</th>\n",
       "      <td>sistem buka tutup sekolah akan tiba covid naik...</td>\n",
       "      <td>sistem buka tutup sekolah covid sekolah tutup ...</td>\n",
       "      <td>negatif</td>\n",
       "      <td>0</td>\n",
       "    </tr>\n",
       "    <tr>\n",
       "      <th>3</th>\n",
       "      <td>padahal indonesia tembus 500 000 covid astagfi...</td>\n",
       "      <td>indonesia tembus 500 000 covid astagfirullah</td>\n",
       "      <td>negatif</td>\n",
       "      <td>0</td>\n",
       "    </tr>\n",
       "    <tr>\n",
       "      <th>4</th>\n",
       "      <td>semuanya tergantung orang tua saya kalau misal...</td>\n",
       "      <td>gantung orang tua kena covid tanggal mati adek</td>\n",
       "      <td>negatif</td>\n",
       "      <td>0</td>\n",
       "    </tr>\n",
       "    <tr>\n",
       "      <th>...</th>\n",
       "      <td>...</td>\n",
       "      <td>...</td>\n",
       "      <td>...</td>\n",
       "      <td>...</td>\n",
       "    </tr>\n",
       "    <tr>\n",
       "      <th>499</th>\n",
       "      <td>alhamdulillah</td>\n",
       "      <td>alhamdulillah</td>\n",
       "      <td>positif</td>\n",
       "      <td>1</td>\n",
       "    </tr>\n",
       "    <tr>\n",
       "      <th>500</th>\n",
       "      <td>mending daring aja pak kalo offline masih berk...</td>\n",
       "      <td>mending daring aja kalo offline kerumun</td>\n",
       "      <td>negatif</td>\n",
       "      <td>0</td>\n",
       "    </tr>\n",
       "    <tr>\n",
       "      <th>501</th>\n",
       "      <td>enak online aja lah tinggal ngerjain tugas pst...</td>\n",
       "      <td>enak online aja tinggal ngerjain tugas psti kls</td>\n",
       "      <td>negatif</td>\n",
       "      <td>0</td>\n",
       "    </tr>\n",
       "    <tr>\n",
       "      <th>502</th>\n",
       "      <td>biarkan saja anak anak sekolah on line sampai ...</td>\n",
       "      <td>biar anak anak sekolah on line tahun mall buka...</td>\n",
       "      <td>negatif</td>\n",
       "      <td>0</td>\n",
       "    </tr>\n",
       "    <tr>\n",
       "      <th>503</th>\n",
       "      <td>jujur pak saya betah pjj</td>\n",
       "      <td>jujur betah pjj</td>\n",
       "      <td>negatif</td>\n",
       "      <td>0</td>\n",
       "    </tr>\n",
       "  </tbody>\n",
       "</table>\n",
       "<p>504 rows × 4 columns</p>\n",
       "</div>"
      ],
      "text/plain": [
       "                                      Komentar_Youtube  \\\n",
       "0    semoga aja gajadi sekolah awal tahun karna wak...   \n",
       "1    tatap muka moga2 tdk terlalu ribet dgn terlalu...   \n",
       "2    sistem buka tutup sekolah akan tiba covid naik...   \n",
       "3    padahal indonesia tembus 500 000 covid astagfi...   \n",
       "4    semuanya tergantung orang tua saya kalau misal...   \n",
       "..                                                 ...   \n",
       "499                                      alhamdulillah   \n",
       "500  mending daring aja pak kalo offline masih berk...   \n",
       "501  enak online aja lah tinggal ngerjain tugas pst...   \n",
       "502  biarkan saja anak anak sekolah on line sampai ...   \n",
       "503                          jujur pak saya betah pjj    \n",
       "\n",
       "                                              STEMMING    Label  Polarity  \n",
       "0    moga aja gajadi sekolah karna kemarin simulasi...  negatif         0  \n",
       "1    tatap muka moga2 tdk ribet dgn bnyk atur onlin...  positif         1  \n",
       "2    sistem buka tutup sekolah covid sekolah tutup ...  negatif         0  \n",
       "3         indonesia tembus 500 000 covid astagfirullah  negatif         0  \n",
       "4       gantung orang tua kena covid tanggal mati adek  negatif         0  \n",
       "..                                                 ...      ...       ...  \n",
       "499                                      alhamdulillah  positif         1  \n",
       "500            mending daring aja kalo offline kerumun  negatif         0  \n",
       "501    enak online aja tinggal ngerjain tugas psti kls  negatif         0  \n",
       "502  biar anak anak sekolah on line tahun mall buka...  negatif         0  \n",
       "503                                    jujur betah pjj  negatif         0  \n",
       "\n",
       "[504 rows x 4 columns]"
      ]
     },
     "execution_count": 31,
     "metadata": {},
     "output_type": "execute_result"
    }
   ],
   "source": [
    "Final"
   ]
  },
  {
   "cell_type": "code",
   "execution_count": null,
   "metadata": {
    "id": "YZPeEwJrh6Ei"
   },
   "outputs": [],
   "source": [
    "Final.to_csv('hasil_analysis.csv')"
   ]
  },
  {
   "cell_type": "markdown",
   "metadata": {},
   "source": [
    "Train Data to MultinomialNaiveBayes"
   ]
  },
  {
   "cell_type": "code",
   "execution_count": 23,
   "metadata": {
    "id": "r39yam0vh6Ej",
    "outputId": "77b064f3-90bd-406e-8dc5-49b645f29977"
   },
   "outputs": [
    {
     "data": {
      "text/plain": [
       "MultinomialNB()"
      ]
     },
     "execution_count": 23,
     "metadata": {},
     "output_type": "execute_result"
    }
   ],
   "source": [
    "#Fit the model on training set\n",
    "model =MultinomialNB()\n",
    "model.fit(X_train,y_train)"
   ]
  },
  {
   "cell_type": "code",
   "execution_count": 24,
   "metadata": {
    "id": "_ARfOhxqh6Ej"
   },
   "outputs": [],
   "source": [
    "#save the model to disk\n",
    "filename ='model_analisis_TatapMUka.pkl'\n",
    "pickle.dump(model,open(filename,'wb'))"
   ]
  },
  {
   "cell_type": "code",
   "execution_count": 25,
   "metadata": {
    "id": "SgkamwCMh6Ej",
    "outputId": "3e8fa785-6d2e-4e45-f125-61236d20ccac"
   },
   "outputs": [
    {
     "name": "stdout",
     "output_type": "stream",
     "text": [
      "0.8118811881188119\n"
     ]
    }
   ],
   "source": [
    "#load the model from disk\n",
    "loaded_model = pickle.load(open(filename,'rb'))\n",
    "result = loaded_model.score(X_test,y_test)\n",
    "print(result)\n"
   ]
  },
  {
   "cell_type": "markdown",
   "metadata": {},
   "source": [
    "Visualization Result with Pie Chart"
   ]
  },
  {
   "cell_type": "code",
   "execution_count": 52,
   "metadata": {
    "id": "DO2btIbjh6Ek",
    "outputId": "4f5d871d-8c6e-4ee7-e6a8-3715c35b0384"
   },
   "outputs": [
    {
     "data": {
      "image/png": "[encoded data removed]",
      "text/plain": [
       "<Figure size 432x288 with 1 Axes>"
      ]
     },
     "metadata": {},
     "output_type": "display_data"
    }
   ],
   "source": [
    "label_positive = 1 \n",
    "label_negative = 0\n",
    "\n",
    "# menghitung jumlah label positif dan negatif pada data test setelah hasil prediksi model\n",
    "sentiment_count_label = collections.Counter(preds)\n",
    "juml_pos_nb= sentiment_count_label[label_positive]\n",
    "juml_neg_nb = sentiment_count_label[label_negative]\n",
    "\n",
    "#pie chart analisis sentimen\n",
    "\n",
    "labels = ['Positive','Negative']\n",
    "Category = [juml_pos_nb, juml_neg_nb]\n",
    "fig, ax = plt.subplots()\n",
    "colors = ['green', 'yellow']\n",
    "\n",
    "\n",
    "\n",
    "plt.pie(slices, labels = sentiments, colors=colors, startangle=90, shadow = True,\n",
    "        explode = (0, 0.1), radius = 1.1, autopct = '%1.2f%%') \n",
    "\n",
    "\n",
    "\n",
    "plt.title('Diagram Lingkar Data Hasil Prediksi Klasifikasi Naive Bayes')\n",
    "\n",
    "plt.legend()\n",
    "\n",
    "plt.show()\n",
    "\n",
    "\n"
   ]
  }
 ],
 "metadata": {
  "colab": {
   "name": "Analyssen.ipynb",
   "provenance": []
  },
  "kernelspec": {
   "display_name": "Python 3 (ipykernel)",
   "language": "python",
   "name": "python3"
  },
  "language_info": {
   "codemirror_mode": {
    "name": "ipython",
    "version": 3
   },
   "file_extension": ".py",
   "mimetype": "text/x-python",
   "name": "python",
   "nbconvert_exporter": "python",
   "pygments_lexer": "ipython3",
   "version": "3.9.7"
  }
 },
 "nbformat": 4,
 "nbformat_minor": 1
}
