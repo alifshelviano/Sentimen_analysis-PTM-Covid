{
 "cells": [
  {
   "cell_type": "code",
   "execution_count": 1,
   "metadata": {},
   "outputs": [],
   "source": [
    "import numpy as np\n",
    "import time\n",
    "import matplotlib.pyplot as plt\n",
    "import pandas as pd\n",
    "from sklearn.feature_extraction.text import CountVectorizer\n",
    "import nltk\n",
    "import string\n",
    "from selenium import webdriver\n",
    "from bs4 import BeautifulSoup as bs"
   ]
  },
  {
   "cell_type": "code",
   "execution_count": 2,
   "metadata": {},
   "outputs": [],
   "source": [
    "import sys\n",
    "import numpy\n",
    "import re"
   ]
  },
  {
   "cell_type": "code",
   "execution_count": 3,
   "metadata": {},
   "outputs": [
    {
     "name": "stderr",
     "output_type": "stream",
     "text": [
      "C:\\Users\\alifs\\AppData\\Local\\Temp/ipykernel_7052/1117635206.py:1: DeprecationWarning: executable_path has been deprecated, please pass in a Service object\n",
      "  driver=webdriver.Chrome(r'C:\\Program Files (x86)\\Google\\chromedriver_win32 (1)\\chromedriver.exe') #(Letakkan 'chromedriver.exe' ke folder yang udah ditetapkan ini)\n",
      "C:\\Users\\alifs\\AppData\\Local\\Temp/ipykernel_7052/1117635206.py:8: DeprecationWarning: find_element_by_xpath is deprecated. Please use find_element(by=By.XPATH, value=xpath) instead\n",
      "  comment_div=driver.find_element_by_xpath('//*[@id=\"contents\"]')\n",
      "C:\\Users\\alifs\\AppData\\Local\\Temp/ipykernel_7052/1117635206.py:9: DeprecationWarning: find_elements_by_xpath is deprecated. Please use find_elements(by=By.XPATH, value=xpath) instead\n",
      "  comments=comment_div.find_elements_by_xpath('//*[@id=\"content-text\"]')\n"
     ]
    }
   ],
   "source": [
    "driver=webdriver.Chrome(r'C:\\Program Files (x86)\\Google\\chromedriver_win32 (1)\\chromedriver.exe') #(Letakkan 'chromedriver.exe' ke folder yang udah ditetapkan ini)\n",
    "driver.get('https://www.youtube.com/watch?v=zCQpvy3z2ew')\n",
    "driver.execute_script('window.scrollTo(1, 500);')\n",
    "#now wait let load the comments\n",
    "time.sleep(150) #jumlah data yang diambil tergantung scroll saat load data #SARAN Setting time sleppingnya lama\n",
    "driver.execute_script('window.scrollTo(1,3000);')\n",
    "comments_youtube=[]\n",
    "comment_div=driver.find_element_by_xpath('//*[@id=\"contents\"]')\n",
    "comments=comment_div.find_elements_by_xpath('//*[@id=\"content-text\"]')\n",
    "for comment in comments:\n",
    "    comments_youtube.append(comment.text)"
   ]
  },
  {
   "cell_type": "code",
   "execution_count": 4,
   "metadata": {},
   "outputs": [
    {
     "name": "stdout",
     "output_type": "stream",
     "text": [
      "                                     Comments_youtube\n",
      "0   semua tergantung dari ortu yang bolehkan anak ...\n",
      "1   Tetap belajar dari rumah, \\nMenyelamatkan juta...\n",
      "2   Mantap Pak, sekolah gak dibuka pun remaja yang...\n",
      "3   untuk menjadi bahan pertimbangan pemerintah, p...\n",
      "4   Sekolah tatap muka perlu di pertimbangkan kemb...\n",
      "..                                                ...\n",
      "76  Kami para guru 3 T provinsi  Kabupaten Keerom ...\n",
      "77  Covid terus meningkat, bagaimana kalo sekolah ...\n",
      "78  penyakit di mental jauh lebih bahaya daripada ...\n",
      "79  dipikir fasilitas protokol dari mnaaa?? dari u...\n",
      "80  Alhamdulilah seneng denger nya smoga pemda kep...\n",
      "\n",
      "[81 rows x 1 columns]\n"
     ]
    }
   ],
   "source": [
    "comments2_dict = {'Comments_youtube':comments_youtube}\n",
    "comments2_youtube_df = pd.DataFrame(comments2_dict)\n",
    "print(comments2_youtube_df)\n",
    "comments2_youtube_df.to_csv(r'comments2_youtube.csv')\n"
   ]
  },
  {
   "cell_type": "code",
   "execution_count": 6,
   "metadata": {},
   "outputs": [],
   "source": [
    "dfcomments = pd.read_csv(\"comments2_youtube.csv\")"
   ]
  },
  {
   "cell_type": "code",
   "execution_count": 7,
   "metadata": {},
   "outputs": [
    {
     "data": {
      "text/html": [
       "<div>\n",
       "<style scoped>\n",
       "    .dataframe tbody tr th:only-of-type {\n",
       "        vertical-align: middle;\n",
       "    }\n",
       "\n",
       "    .dataframe tbody tr th {\n",
       "        vertical-align: top;\n",
       "    }\n",
       "\n",
       "    .dataframe thead th {\n",
       "        text-align: right;\n",
       "    }\n",
       "</style>\n",
       "<table border=\"1\" class=\"dataframe\">\n",
       "  <thead>\n",
       "    <tr style=\"text-align: right;\">\n",
       "      <th></th>\n",
       "      <th>Unnamed: 0</th>\n",
       "      <th>Comments_youtube</th>\n",
       "    </tr>\n",
       "  </thead>\n",
       "  <tbody>\n",
       "    <tr>\n",
       "      <th>0</th>\n",
       "      <td>0</td>\n",
       "      <td>semua tergantung dari ortu yang bolehkan anak ...</td>\n",
       "    </tr>\n",
       "    <tr>\n",
       "      <th>1</th>\n",
       "      <td>1</td>\n",
       "      <td>Tetap belajar dari rumah, \\nMenyelamatkan juta...</td>\n",
       "    </tr>\n",
       "    <tr>\n",
       "      <th>2</th>\n",
       "      <td>2</td>\n",
       "      <td>Mantap Pak, sekolah gak dibuka pun remaja yang...</td>\n",
       "    </tr>\n",
       "    <tr>\n",
       "      <th>3</th>\n",
       "      <td>3</td>\n",
       "      <td>untuk menjadi bahan pertimbangan pemerintah, p...</td>\n",
       "    </tr>\n",
       "    <tr>\n",
       "      <th>4</th>\n",
       "      <td>4</td>\n",
       "      <td>Sekolah tatap muka perlu di pertimbangkan kemb...</td>\n",
       "    </tr>\n",
       "  </tbody>\n",
       "</table>\n",
       "</div>"
      ],
      "text/plain": [
       "   Unnamed: 0                                   Comments_youtube\n",
       "0           0  semua tergantung dari ortu yang bolehkan anak ...\n",
       "1           1  Tetap belajar dari rumah, \\nMenyelamatkan juta...\n",
       "2           2  Mantap Pak, sekolah gak dibuka pun remaja yang...\n",
       "3           3  untuk menjadi bahan pertimbangan pemerintah, p...\n",
       "4           4  Sekolah tatap muka perlu di pertimbangkan kemb..."
      ]
     },
     "execution_count": 7,
     "metadata": {},
     "output_type": "execute_result"
    }
   ],
   "source": [
    "dfcomments.head()"
   ]
  },
  {
   "cell_type": "code",
   "execution_count": 8,
   "metadata": {},
   "outputs": [
    {
     "name": "stdout",
     "output_type": "stream",
     "text": [
      "    Unnamed: 0                                   Comments_youtube\n",
      "0            0  semua tergantung dari ortu yang bolehkan anak ...\n",
      "1            1  Tetap belajar dari rumah, \\nMenyelamatkan juta...\n",
      "2            2  Mantap Pak, sekolah gak dibuka pun remaja yang...\n",
      "3            3  untuk menjadi bahan pertimbangan pemerintah, p...\n",
      "4            4  Sekolah tatap muka perlu di pertimbangkan kemb...\n",
      "..         ...                                                ...\n",
      "76          76  Kami para guru 3 T provinsi  Kabupaten Keerom ...\n",
      "77          77  Covid terus meningkat, bagaimana kalo sekolah ...\n",
      "78          78  penyakit di mental jauh lebih bahaya daripada ...\n",
      "79          79  dipikir fasilitas protokol dari mnaaa?? dari u...\n",
      "80          80  Alhamdulilah seneng denger nya smoga pemda kep...\n",
      "\n",
      "[81 rows x 2 columns]\n"
     ]
    }
   ],
   "source": [
    "numpy.set_printoptions(threshold=sys.maxsize)\n",
    "print(dfcomments)"
   ]
  },
  {
   "cell_type": "code",
   "execution_count": 14,
   "metadata": {},
   "outputs": [
    {
     "name": "stdout",
     "output_type": "stream",
     "text": [
      "<class 'pandas.core.frame.DataFrame'>\n",
      "RangeIndex: 81 entries, 0 to 80\n",
      "Data columns (total 2 columns):\n",
      " #   Column            Non-Null Count  Dtype \n",
      "---  ------            --------------  ----- \n",
      " 0   Unnamed: 0        81 non-null     int64 \n",
      " 1   Comments_youtube  81 non-null     object\n",
      "dtypes: int64(1), object(1)\n",
      "memory usage: 1.4+ KB\n"
     ]
    }
   ],
   "source": [
    "dfcomments .info()"
   ]
  },
  {
   "cell_type": "code",
   "execution_count": null,
   "metadata": {},
   "outputs": [],
   "source": []
  }
 ],
 "metadata": {
  "kernelspec": {
   "display_name": "Python 3 (ipykernel)",
   "language": "python",
   "name": "python3"
  },
  "language_info": {
   "codemirror_mode": {
    "name": "ipython",
    "version": 3
   },
   "file_extension": ".py",
   "mimetype": "text/x-python",
   "name": "python",
   "nbconvert_exporter": "python",
   "pygments_lexer": "ipython3",
   "version": "3.9.7"
  }
 },
 "nbformat": 4,
 "nbformat_minor": 2
}
